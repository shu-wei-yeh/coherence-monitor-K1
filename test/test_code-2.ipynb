{
 "cells": [
  {
   "cell_type": "code",
   "execution_count": 6,
   "metadata": {},
   "outputs": [
    {
     "name": "stdout",
     "output_type": "stream",
     "text": [
      "Parameters:\n",
      "  lowfreq = 55\n",
      "  highfreq = 65\n",
      "  savedir = /disk/home/shu-wei.yeh/coherence-monitor/K1_automatic/1368986010\n",
      "  ifo = K1\n",
      "  dur = 900\n"
     ]
    }
   ],
   "source": [
    "# Import required libraries and functions.\n",
    "import os\n",
    "import pandas as pd\n",
    "import random\n",
    "from datetime import datetime, timedelta\n",
    "\n",
    "from utils import (\n",
    "    get_times, calc_coherence, run_coherence, get_max_corr,\n",
    "    get_frame_files, get_strain_data, find_max_corr_channel, plot_max_corr_chan, give_group_v2\n",
    ")\n",
    "from gwpy.timeseries import TimeSeries\n",
    "\n",
    "# Set the parameters (instead of using argparse in a notebook, define them directly):\n",
    "lowfreq = 55      # Lower boundary for frequency in DeepClean\n",
    "highfreq = 65     # Upper boundary for frequency in DeepClean\n",
    "savedir = os.path.join(os.getcwd(), \"K1_automatic\", \"1368986010\")  # Example savedir\n",
    "ifo = \"K1\"\n",
    "dur = 900         # Duration of data in seconds\n",
    "\n",
    "print(\"Parameters:\")\n",
    "print(\"  lowfreq =\", lowfreq)\n",
    "print(\"  highfreq =\", highfreq)\n",
    "print(\"  savedir =\", savedir)\n",
    "print(\"  ifo =\", ifo)\n",
    "print(\"  dur =\", dur)"
   ]
  },
  {
   "cell_type": "code",
   "execution_count": 7,
   "metadata": {},
   "outputs": [
    {
     "name": "stdout",
     "output_type": "stream",
     "text": [
      "Current time is: 1368986010\n"
     ]
    }
   ],
   "source": [
    "# Robustly extract a numeric time from the savedir.\n",
    "savedir_abs = os.path.abspath(savedir)\n",
    "time_str = os.path.basename(os.path.normpath(savedir_abs))\n",
    "if not time_str.isdigit():\n",
    "    time_str = os.path.basename(os.path.dirname(savedir_abs))\n",
    "if not time_str.isdigit():\n",
    "    raise ValueError(f\"Could not extract a numeric time from savedir '{savedir}'\")\n",
    "time_val = int(time_str)\n",
    "print(\"Current time is:\", time_val)"
   ]
  },
  {
   "cell_type": "code",
   "execution_count": 8,
   "metadata": {},
   "outputs": [
    {
     "name": "stdout",
     "output_type": "stream",
     "text": [
      "Warning: Unsafe channels file not found at channel_files/K1/K1_unsafe_channels.csv. Proceeding without filtering unsafe channels.\n",
      "Data acquired; generating plots...\n",
      "Plots saved successfully.\n"
     ]
    }
   ],
   "source": [
    "# Generate the plot of maximum coherence channels.\n",
    "# FFT is set to 10 and the duration for plot titles is taken from dur.\n",
    "vals = plot_max_corr_chan(savedir, fft=10, ifo=ifo, duration=dur, flow=lowfreq, fhigh=highfreq)"
   ]
  },
  {
   "cell_type": "code",
   "execution_count": 9,
   "metadata": {},
   "outputs": [
    {
     "data": {
      "text/html": [
       "<div>\n",
       "<style scoped>\n",
       "    .dataframe tbody tr th:only-of-type {\n",
       "        vertical-align: middle;\n",
       "    }\n",
       "\n",
       "    .dataframe tbody tr th {\n",
       "        vertical-align: top;\n",
       "    }\n",
       "\n",
       "    .dataframe thead th {\n",
       "        text-align: right;\n",
       "    }\n",
       "</style>\n",
       "<table border=\"1\" class=\"dataframe\">\n",
       "  <thead>\n",
       "    <tr style=\"text-align: right;\">\n",
       "      <th></th>\n",
       "      <th>frequency</th>\n",
       "      <th>channel1</th>\n",
       "      <th>corr1</th>\n",
       "      <th>channel2</th>\n",
       "      <th>corr2</th>\n",
       "      <th>group1</th>\n",
       "      <th>group2</th>\n",
       "    </tr>\n",
       "  </thead>\n",
       "  <tbody>\n",
       "    <tr>\n",
       "      <th>550</th>\n",
       "      <td>55.0</td>\n",
       "      <td>K1:PEM_SEIS_BS_GND_Y_OUT_DQ_1368986010_1368986...</td>\n",
       "      <td>0.074651</td>\n",
       "      <td>K1:PEM_MIC_OMC_BOOTH_OMC_Z_OUT_DQ_1368986010_1...</td>\n",
       "      <td>0.066296</td>\n",
       "      <td>PEM</td>\n",
       "      <td>PEM</td>\n",
       "    </tr>\n",
       "    <tr>\n",
       "      <th>551</th>\n",
       "      <td>55.1</td>\n",
       "      <td>K1:PEM_MIC_OMC_BOOTH_OMC_Z_OUT_DQ_1368986010_1...</td>\n",
       "      <td>0.032529</td>\n",
       "      <td>K1:PEM_SEIS_BS_GND_Z_OUT_DQ_1368986010_1368986...</td>\n",
       "      <td>0.024466</td>\n",
       "      <td>PEM</td>\n",
       "      <td>PEM</td>\n",
       "    </tr>\n",
       "    <tr>\n",
       "      <th>552</th>\n",
       "      <td>55.2</td>\n",
       "      <td>K1:PEM_SEIS_BS_GND_Z_OUT_DQ_1368986010_1368986...</td>\n",
       "      <td>0.074881</td>\n",
       "      <td>K1:PEM_SEIS_BS_GND_Y_OUT_DQ_1368986010_1368986...</td>\n",
       "      <td>0.061589</td>\n",
       "      <td>PEM</td>\n",
       "      <td>PEM</td>\n",
       "    </tr>\n",
       "    <tr>\n",
       "      <th>553</th>\n",
       "      <td>55.3</td>\n",
       "      <td>K1:PEM_MIC_OMC_TABLE_AS_Z_OUT_DQ_1368986010_13...</td>\n",
       "      <td>0.044395</td>\n",
       "      <td>K1:PEM_MIC_OMC_BOOTH_OMC_Z_OUT_DQ_1368986010_1...</td>\n",
       "      <td>0.041983</td>\n",
       "      <td>PEM</td>\n",
       "      <td>PEM</td>\n",
       "    </tr>\n",
       "    <tr>\n",
       "      <th>554</th>\n",
       "      <td>55.4</td>\n",
       "      <td>K1:PEM_SEIS_BS_GND_X_OUT_DQ_1368986010_1368986...</td>\n",
       "      <td>0.109170</td>\n",
       "      <td>K1:PEM_SEIS_BS_GND_Z_OUT_DQ_1368986010_1368986...</td>\n",
       "      <td>0.091231</td>\n",
       "      <td>PEM</td>\n",
       "      <td>PEM</td>\n",
       "    </tr>\n",
       "  </tbody>\n",
       "</table>\n",
       "</div>"
      ],
      "text/plain": [
       "     frequency                                           channel1     corr1  \\\n",
       "550       55.0  K1:PEM_SEIS_BS_GND_Y_OUT_DQ_1368986010_1368986...  0.074651   \n",
       "551       55.1  K1:PEM_MIC_OMC_BOOTH_OMC_Z_OUT_DQ_1368986010_1...  0.032529   \n",
       "552       55.2  K1:PEM_SEIS_BS_GND_Z_OUT_DQ_1368986010_1368986...  0.074881   \n",
       "553       55.3  K1:PEM_MIC_OMC_TABLE_AS_Z_OUT_DQ_1368986010_13...  0.044395   \n",
       "554       55.4  K1:PEM_SEIS_BS_GND_X_OUT_DQ_1368986010_1368986...  0.109170   \n",
       "\n",
       "                                              channel2     corr2 group1 group2  \n",
       "550  K1:PEM_MIC_OMC_BOOTH_OMC_Z_OUT_DQ_1368986010_1...  0.066296    PEM    PEM  \n",
       "551  K1:PEM_SEIS_BS_GND_Z_OUT_DQ_1368986010_1368986...  0.024466    PEM    PEM  \n",
       "552  K1:PEM_SEIS_BS_GND_Y_OUT_DQ_1368986010_1368986...  0.061589    PEM    PEM  \n",
       "553  K1:PEM_MIC_OMC_BOOTH_OMC_Z_OUT_DQ_1368986010_1...  0.041983    PEM    PEM  \n",
       "554  K1:PEM_SEIS_BS_GND_Z_OUT_DQ_1368986010_1368986...  0.091231    PEM    PEM  "
      ]
     },
     "execution_count": 9,
     "metadata": {},
     "output_type": "execute_result"
    }
   ],
   "source": [
    "# Display the head of the DataFrame\n",
    "vals.head()"
   ]
  },
  {
   "cell_type": "code",
   "execution_count": 22,
   "metadata": {},
   "outputs": [
    {
     "name": "stdout",
     "output_type": "stream",
     "text": [
      "Empty DataFrame\n",
      "Columns: [frequency, channel1, corr1, channel2, corr2, group1, group2]\n",
      "Index: []\n"
     ]
    }
   ],
   "source": [
    "# Select rows based on frequency and coherence thresholds.\n",
    "vals_selc = vals.loc[\n",
    "    (vals['frequency'] > lowfreq) &\n",
    "    (vals['frequency'] < highfreq) &\n",
    "    ((vals['corr1'] > 0.2) | (vals['corr2'] > 0.2))\n",
    "]\n",
    "\n",
    "# Display filtered results.\n",
    "vals_selc.head()\n",
    "print(vals_selc)"
   ]
  },
  {
   "cell_type": "code",
   "execution_count": null,
   "metadata": {},
   "outputs": [],
   "source": [
    "# Obtain unique witness channels from both 'channel1' and 'channel2' columns.\n",
    "channels1 = vals_selc.sort_values('corr1', ascending=False)\\\n",
    "                      .drop_duplicates(subset=['channel1'])['channel1'].tolist()\n",
    "channels2 = vals_selc.sort_values('corr2', ascending=False)\\\n",
    "                      .drop_duplicates(subset=['channel2'])['channel2'].tolist()\n",
    "\n",
    "channels = channels1.copy()\n",
    "for c in channels2:\n",
    "    if c not in channels:\n",
    "        channels.append(c)\n",
    "\n",
    "print(\"Unique witness channels:\")\n",
    "print(channels)"
   ]
  },
  {
   "cell_type": "code",
   "execution_count": null,
   "metadata": {},
   "outputs": [],
   "source": [
    "# Write the channel list to a file.\n",
    "with open('chanlist_O4.ini', 'w') as f:\n",
    "    # The first line is the strain channel.\n",
    "    f.write(f\"{ifo}:CAL-CS_PROC_DARM_STRAIN_DBL_DQ\\n\")\n",
    "    for c in channels:\n",
    "        # Replace the first underscore with a dash.\n",
    "        new_c = c.replace('_', '-', 1)\n",
    "        f.write(new_c + '\\n')\n",
    "\n",
    "print(\"Channels written to chanlist_O4.ini\")"
   ]
  },
  {
   "cell_type": "code",
   "execution_count": null,
   "metadata": {},
   "outputs": [],
   "source": [
    "# Open and read the contents of the INI file to verify that the channels are correctly written.\n",
    "ini_file = 'chanlist_O4.ini'\n",
    "with open(ini_file, 'r') as f:\n",
    "    contents = f.read()\n",
    "print(\"Contents of chanlist_O4.ini:\")\n",
    "print(contents)"
   ]
  }
 ],
 "metadata": {
  "kernelspec": {
   "display_name": "igwn-py38",
   "language": "python",
   "name": "python3"
  },
  "language_info": {
   "codemirror_mode": {
    "name": "ipython",
    "version": 3
   },
   "file_extension": ".py",
   "mimetype": "text/x-python",
   "name": "python",
   "nbconvert_exporter": "python",
   "pygments_lexer": "ipython3",
   "version": "3.8.17"
  }
 },
 "nbformat": 4,
 "nbformat_minor": 2
}
