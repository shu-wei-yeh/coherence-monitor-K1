{
 "cells": [
  {
   "cell_type": "code",
   "execution_count": null,
   "metadata": {},
   "outputs": [],
   "source": [
    "# Import required modules and functions.\n",
    "import os\n",
    "import pandas as pd\n",
    "import random\n",
    "import time\n",
    "from datetime import datetime, timedelta\n",
    "\n",
    "from utils import (\n",
    "    get_times, calc_coherence, run_coherence, get_max_corr, get_frame_files, \n",
    "    get_strain_data, find_max_corr_channel, plot_max_corr_chan, give_group_v2\n",
    ")\n",
    "from gwpy.timeseries import TimeSeries\n",
    "import plotly.express as px\n",
    "import plotly\n",
    "\n",
    "# Set parameters manually (instead of using argparse).\n",
    "# Change these parameters as needed:\n",
    "lowfreq = 55         # Lower frequency bound (Hz)\n",
    "highfreq = 65        # Upper frequency bound (Hz)\n",
    "dur = 900            # Duration of data in seconds\n",
    "ifo = \"K1\"           # Interferometer\n",
    "# For example, set savedir to a folder whose name is a GPS time, e.g., \"K1_automatic/1370183890/\"\n",
    "savedir = os.path.join(os.getcwd(), \"K1_automatic\", \"1370183890\")\n",
    "\n",
    "\n",
    "print(\"Parameters:\")\n",
    "print(\"  lowfreq =\", lowfreq)\n",
    "print(\"  highfreq =\", highfreq)\n",
    "print(\"  dur =\", dur)\n",
    "print(\"  ifo =\", ifo)\n",
    "print(\"  savedir =\", savedir)"
   ]
  },
  {
   "cell_type": "code",
   "execution_count": null,
   "metadata": {},
   "outputs": [],
   "source": [
    "# Robustly extract a numeric time from the savedir.\n",
    "savedir_abs = os.path.abspath(savedir)\n",
    "time_str = os.path.basename(os.path.normpath(savedir_abs))\n",
    "if not time_str.isdigit():\n",
    "    time_str = os.path.basename(os.path.dirname(savedir_abs))\n",
    "if not time_str.isdigit():\n",
    "    raise ValueError(f\"Could not extract a numeric time from savedir '{savedir}'\")\n",
    "time_val = int(time_str)\n",
    "print(\"Current time is:\", time_val)"
   ]
  },
  {
   "cell_type": "code",
   "execution_count": null,
   "metadata": {},
   "outputs": [],
   "source": [
    "from gwpy.segments import Segment, SegmentList\n",
    "from gwpy.time import to_gps\n",
    "\n",
    "# Set the data segment. You can use a date string or a GPS time.\n",
    "# Here we use the date from the timestamp extracted (you could also set it manually).\n",
    "# For example, if you have a date string, you can do:\n",
    "# date_str = \"2023-01-01\"  (for example) and then:\n",
    "# start_gps = to_gps(datetime.strptime(date_str, '%Y-%m-%d'))\n",
    "# For simplicity, we'll use the numeric time as the start_gps.\n",
    "start_gps = time_val  \n",
    "end_gps = start_gps + dur\n",
    "seg_list = SegmentList([Segment(start_gps, end_gps)])\n",
    "times_segs = get_times(seg_list, duration=dur)\n",
    "print(\"Generated time stamps from segment:\", times_segs)"
   ]
  },
  {
   "cell_type": "code",
   "execution_count": null,
   "metadata": {},
   "outputs": [],
   "source": [
    "# Load channel lists (voltage, OMC, and mic channels).\n",
    "channel_path = os.path.join('/home/shu-wei.yeh/coherence-monitor/channel_files', ifo)\n",
    "volt_chans = pd.read_csv(os.path.join(channel_path, 'volt_channels.csv'), header=None, names=['channel'])\n",
    "# omc_chans = pd.read_csv(os.path.join(channel_path, 'omc_channels.csv'), header=None, names=['channel'])\n",
    "mic_chans = pd.read_csv(os.path.join(channel_path, 'mic_channels.csv'), header=None, names=['channel'])\n",
    "\n",
    "print(\"Voltage channels:\")\n",
    "print(volt_chans.head(), '\\n')\n",
    "\n",
    "print(\"OMC channels:\")\n",
    "# print(omc_chans.head(), '\\n')\n",
    "\n",
    "print(\"Mic channels:\")\n",
    "print(mic_chans.head())"
   ]
  },
  {
   "cell_type": "code",
   "execution_count": null,
   "metadata": {},
   "outputs": [],
   "source": [
    "# Randomly choose one GPS start time from the available times.\n",
    "time_chosen = random.choice(times_segs)\n",
    "print(\"Chosen GPS start time:\", time_chosen)"
   ]
  },
  {
   "cell_type": "code",
   "execution_count": null,
   "metadata": {},
   "outputs": [],
   "source": [
    "# Load the strain data for the interval [time_chosen, time_chosen + dur).\n",
    "ht_data = get_strain_data(time_chosen, time_chosen + dur, dur, ifo=ifo)\n",
    "if ht_data is None:\n",
    "    raise RuntimeError(\"Failed to load h(t) data.\")\n",
    "print(\"Strain data loaded successfully.\")"
   ]
  },
  {
   "cell_type": "code",
   "execution_count": null,
   "metadata": {},
   "outputs": [],
   "source": [
    "import multiprocessing\n",
    "\n",
    "def get_coherence_volt(channel_list, ifo, t0, strain_data, savedir, duration):\n",
    "    files_ = get_frame_files(t0, t0 + duration, duration, ifo=ifo, directory='/data/KAGRA/raw/full/')\n",
    "    print(\"Got {} witness file(s) for VOLT channels\".format(len(files_)))\n",
    "    if not files_:\n",
    "        raise ValueError(\"No frame files found.\")\n",
    "    run_coherence(\n",
    "        channel_list=channel_list,\n",
    "        frame_files=files_,\n",
    "        starttime=t0,\n",
    "        endtime=t0 + duration,\n",
    "        ifo=ifo,\n",
    "        strain_data=strain_data,\n",
    "        savedir=savedir\n",
    "    )\n",
    "\n",
    "def get_coherence_omc(channel_list, ifo, t0, strain_data, savedir, duration):\n",
    "    files_ = get_frame_files(t0, t0 + duration, duration, ifo=ifo, directory='/data/KAGRA/raw/full/')\n",
    "    print(\"Got {} witness file(s) for OMC channels\".format(len(files_)))\n",
    "    if not files_:\n",
    "        raise ValueError(\"No frame files found.\")\n",
    "    run_coherence(\n",
    "        channel_list=channel_list,\n",
    "        frame_files=files_,\n",
    "        starttime=t0,\n",
    "        endtime=t0 + duration,\n",
    "        ifo=ifo,\n",
    "        strain_data=strain_data,\n",
    "        savedir=savedir\n",
    "    )\n",
    "\n",
    "def get_coherence_mic(channel_list, ifo, t0, strain_data, savedir, duration):\n",
    "    files_ = get_frame_files(t0, t0 + duration, duration, ifo=ifo, directory='/data/KAGRA/raw/full/')\n",
    "    print(\"Got {} witness file(s) for MIC channels\".format(len(files_)))\n",
    "    if not files_:\n",
    "        raise ValueError(\"No frame files found.\")\n",
    "    run_coherence(\n",
    "        channel_list=channel_list,\n",
    "        frame_files=files_,\n",
    "        starttime=t0,\n",
    "        endtime=t0 + duration,\n",
    "        ifo=ifo,\n",
    "        strain_data=strain_data,\n",
    "        savedir=savedir\n",
    "    )"
   ]
  },
  {
   "cell_type": "code",
   "execution_count": null,
   "metadata": {},
   "outputs": [],
   "source": [
    "# Create and run processes sequentially (for simplicity in the notebook).\n",
    "get_coherence_volt(volt_chans['channel'], ifo, time_chosen, ht_data, savedir, dur)\n",
    "# get_coherence_omc(omc_chans['channel'], ifo, time_chosen, ht_data, savedir, dur)\n",
    "get_coherence_mic(mic_chans['channel'], ifo, time_chosen, ht_data, savedir, dur)\n",
    "\n",
    "print(\"Coherence processing complete.\")"
   ]
  },
  {
   "cell_type": "code",
   "execution_count": null,
   "metadata": {},
   "outputs": [],
   "source": [
    "# Assume that run_coherence saves CSV files in a subdirectory named with the GPS time.\n",
    "output_dir = os.path.join(savedir, f'{int(time_chosen)}')\n",
    "print(output_dir)\n",
    "\n",
    "vals = get_max_corr(output_dir, save=True)\n",
    "print(vals)\n",
    "if vals.empty:\n",
    "    raise ValueError(\"No maximum correlation data found.\")"
   ]
  },
  {
   "cell_type": "code",
   "execution_count": null,
   "metadata": {},
   "outputs": [],
   "source": [
    "# Define a simple grouping function (you may adjust it as needed).\n",
    "def give_group(a):\n",
    "    # For example, group by the second component of the channel name.\n",
    "    return a.split('_')[1]\n",
    "\n",
    "vals['group'] = vals['channel'].apply(give_group)\n",
    "print(vals['group'])"
   ]
  },
  {
   "cell_type": "code",
   "execution_count": null,
   "metadata": {},
   "outputs": [],
   "source": [
    "# Create a scatter plot of maximum correlation vs. frequency.\n",
    "fig = px.scatter(\n",
    "    vals, \n",
    "    x=\"frequency\", \n",
    "    y=\"max_correlation\",\n",
    "    hover_data=['channel'], \n",
    "    color=\"group\",\n",
    "    labels={\"max_correlation\": \"Max Correlation\", \"frequency\": \"Frequency [Hz]\"}\n",
    ")\n",
    "\n",
    "# Update layout: increase title and legend fonts.\n",
    "fig.update_layout(\n",
    "    title=dict(\n",
    "        text=\"Max Coherence during {} -- {}\".format(str(time_chosen), str(time_chosen + dur)),\n",
    "        font=dict(family=\"Courier New, monospace\", size=28, color=\"Blue\")\n",
    "    ),\n",
    "    legend=dict(font=dict(size=20))\n",
    ")\n",
    "\n",
    "# Increase the scatter marker size.\n",
    "fig.update_traces(marker=dict(size=20, opacity=0.8))\n",
    "\n",
    "# Display the plot in the notebook.\n",
    "fig.show()"
   ]
  },
  {
   "cell_type": "code",
   "execution_count": null,
   "metadata": {},
   "outputs": [],
   "source": [
    "# Write the vals DataFrame to a CSV file.\n",
    "vals_output_file = os.path.join(savedir, f'vals_output_{int(time_chosen)}.csv')\n",
    "vals.to_csv(vals_output_file, index=False)\n",
    "print(\"vals saved to:\", vals_output_file)"
   ]
  },
  {
   "cell_type": "code",
   "execution_count": null,
   "metadata": {},
   "outputs": [],
   "source": [
    "# Now read the CSV file back in and display its first few rows.\n",
    "vals_read = pd.read_csv(vals_output_file)\n",
    "print(\"Contents of the saved vals file:\")\n",
    "display(vals_read.head())"
   ]
  }
 ],
 "metadata": {
  "kernelspec": {
   "display_name": "igwn-py38",
   "language": "python",
   "name": "python3"
  },
  "language_info": {
   "codemirror_mode": {
    "name": "ipython",
    "version": 3
   },
   "file_extension": ".py",
   "mimetype": "text/x-python",
   "name": "python",
   "nbconvert_exporter": "python",
   "pygments_lexer": "ipython3",
   "version": "3.8.17"
  }
 },
 "nbformat": 4,
 "nbformat_minor": 2
}
